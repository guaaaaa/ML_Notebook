{
 "cells": [
  {
   "cell_type": "markdown",
   "id": "931305d6",
   "metadata": {},
   "source": [
    "# Naive bayes\n",
    "Naive bayes is an algorithm that can be used for classification tasks based on the Bayes' theorem. It is used on a variety of datasets, including text data, image data, and numerical data\n",
    "\n",
    "The naive bayes algorithm works by calculating the conditional probability of each class given the input features as conditions. The class with the highest probability is then predicted as the output\n",
    "\n",
    "# Bayes' theorem\n",
    "$$P(A|B) = \\frac{P(B|A)P(A)}{P(B)} = \\frac{\\text{True positives}}{\\text{True positives + False positives}}$$\n",
    "\n",
    "Interpretations: the probability of event B to occur given the occurrence of event A\n",
    "\n",
    "Assumptions: the bayes' theorem assumes that the input features are conditionally independent from each other\n",
    "\n",
    "# ML version\n",
    "$$P(y_k|X) = \\frac{P(X|y_k)P(y)}{P(X)} = \\frac{P(x_1|y-k)\\cdot P(x_2|y_k)\\cdots \\dot P(x_n|y_k)\\cdot P(y_k)}{P(X)} = \\frac{P(y_k)\\cdot \\Pi^{n}_{i=1}P(x_i|y_k)}{P(X)}$$\n",
    "\n",
    "where\n",
    "\n",
    "$$P(y_k) = \\frac{\\sum^{m}_{i=1}(y_i=y_k)}{m}$$\n",
    "\n",
    "$$P(x_i = a_j|y_k) = \\frac{\\sum^{m}_{i=1}(x_i=a_j \\text{&} y_i=y_k)}{\\sum^{m}_{i=1}(y_i=y_k)}$$\n",
    "\n",
    "\n",
    "$P(y_k|X)$: the probability of the $k$th class, $y_k$, given the input features, $X$, which contains $n$ features ($x_1, x_2, \\cdots, x_n$)\n",
    "\n",
    "$P(y_k)$: the probability of the $k$th class (Prior probability), which equals the frequency of the $k$th class appears in all training examples, $m$\n",
    "\n",
    "$P(x_i|y_k)$: the probaility of feature, $x_i$ given $y_k$ as the condition (conditioinal proability), which equals the number of cases when $x_i$ equals to $a_j$ and $y_i$ equals to $y_k$ divided by the number of cases when $y_i$ equals to $y_k$\n",
    "\n",
    "To make predictions, we select the class with the highest probability, $P(y_k|X)$\n"
   ]
  },
  {
   "cell_type": "code",
   "execution_count": null,
   "id": "40b19145",
   "metadata": {},
   "outputs": [],
   "source": []
  }
 ],
 "metadata": {
  "kernelspec": {
   "display_name": "Python 3 (ipykernel)",
   "language": "python",
   "name": "python3"
  },
  "language_info": {
   "codemirror_mode": {
    "name": "ipython",
    "version": 3
   },
   "file_extension": ".py",
   "mimetype": "text/x-python",
   "name": "python",
   "nbconvert_exporter": "python",
   "pygments_lexer": "ipython3",
   "version": "3.11.5"
  }
 },
 "nbformat": 4,
 "nbformat_minor": 5
}
