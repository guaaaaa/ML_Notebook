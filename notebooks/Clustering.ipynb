{
 "cells": [
  {
   "cell_type": "markdown",
   "id": "21e16a4b",
   "metadata": {},
   "source": [
    "# Clustering\n",
    "Clustering algorithm groups data that are similar to each other\n",
    "\n",
    "# K-means\n",
    "The K-means algorithm is a method to automatically cluster similar data points together\n",
    "\n",
    "Given $m$ training examples $\\{x^{(1)}, ..., x^{(m)}\\}$, we want to group them into $K$ clusters\n",
    "\n",
    "Steps\n",
    "1. Randomly initalize $K$ cluster centroids ($\\mu_1, \\mu_2, ..., \\mu_K$), the clustering centroids are vectors that have the same dimension as the training examples\n",
    "2. Assign each data point to its closest centroid\n",
    "3. Compute the points of average of all data points that are assigned to each cluster centroid and reassign the clustering centroids position to those points\n",
    "4. Repeat from step 2 until the movement of the cluster centroids converge\n",
    "\n",
    "Note: if a cluster has no point assigned to it, we can whether elimiate that cluster or reinitalize it to a new position until at least one point is assigned to it\n",
    "\n",
    "## K-means optimization\n",
    "\n",
    "### Notataions\n",
    "$x^{(1)}, ..., x^{(m)}$: $m$ training examples in total\n",
    "\n",
    "$c^{(i)}$: index of cluster ($1, 2, ..., K$) that the $i$th training example, $x^{(i)}$, is assigned to\n",
    "\n",
    "$\\mu_k$: $k$th cluster centroid\n",
    "\n",
    "$\\mu_{c^{(i)}}$: the cluster centroid with the index of cluster $c^{(i)}$ (cluster centroid that the $i$th training example, $x^{(i)}$, is assigned to)\n",
    "\n",
    "## Assign the closest centroid to a point\n",
    "The determine the assigned cluster index for a point ($c^{(i)}$), we want to find a cluster that minimize\n",
    "$$ ||x^{(i)} - \\mu_k||^2,$$\n",
    "which is the squared distance between two vectors\n",
    "\n",
    "$x^{(i)}$: a vector representing $i$th training example\n",
    "\n",
    "$\\mu_k$: the coordinate of $k$th cluster\n",
    "\n",
    "## Compute the mean of the each centroid\n",
    "The following function calculates the average coordinate of all points assigned to a centroid the as the new clustering centroid\n",
    "$$\\mu_k = \\frac{1}{|C_k|} \\sum_{i \\in C_k} x^{(i)}$$\n",
    "\n",
    "$\\mu_k$: the updated coordinate of $k$th cluster\n",
    "\n",
    "$C_k$: the training examples that are assigned to centroid $k$\n",
    "  \n",
    "$|C_k|$: the number of training examples in the set $C_k$\n",
    "\n",
    "## Cost function\n",
    "The cost function compute the average squared distance between each training example and its assigned clustering centroid\n",
    "$$J = \\frac{1}{m} \\sum\\limits_{i = 1}^{m} ||x^{(i)} - \\mu_{c^{(i)}}||^2$$\n",
    "\n",
    "After each iteration of assigning points and updating centroids should reduce the cost. If the cost function converges, we can stop iterate "
   ]
  },
  {
   "cell_type": "markdown",
   "id": "c720de6a",
   "metadata": {},
   "source": [
    "# Code"
   ]
  },
  {
   "cell_type": "code",
   "execution_count": 1,
   "id": "eed803cb",
   "metadata": {},
   "outputs": [],
   "source": [
    "import numpy as np\n",
    "import matplotlib.pyplot as plt"
   ]
  },
  {
   "cell_type": "code",
   "execution_count": 2,
   "id": "9f4fcb57",
   "metadata": {},
   "outputs": [],
   "source": [
    "# Find closest centroid\n",
    "def find_closest_centroids(X, centroids):\n",
    "    \"\"\"\n",
    "    Args:\n",
    "        X (ndarray): (m, n) Input values      \n",
    "        centroids (ndarray): (K, n) centroids\n",
    "    \n",
    "    Returns:\n",
    "        idx (array_like): (m,) closest centroids\n",
    "    \"\"\"\n",
    "\n",
    "    # Get total number of clusters\n",
    "    K = centroids.shape[0]\n",
    "\n",
    "    # Get the number of training examples\n",
    "    idx = np.zeros(X.shape[0], dtype=int)\n",
    "\n",
    "    # Loop through each training example\n",
    "    for i in range(X.shape[0]):\n",
    "        \n",
    "        # Define minimum distance & index\n",
    "        min_distance = np.inf\n",
    "        index = -1\n",
    "        \n",
    "        # Loop through each cluster\n",
    "        for j in range(K):\n",
    "            \n",
    "            # Calculate the squared distance\n",
    "            distance = (np.linalg.norm(X[i] - centroids[j])) ** 2\n",
    "            \n",
    "            # Update the minimum distance and index\n",
    "            if distance < min_distance:\n",
    "                min_distance = distance\n",
    "                index = j\n",
    "                \n",
    "        idx[i] = index\n",
    "        \n",
    "    # return an 1D array with size equals to the number of training example holding the cluster index for each example\n",
    "    return idx"
   ]
  },
  {
   "cell_type": "code",
   "execution_count": 4,
   "id": "378ec2aa",
   "metadata": {},
   "outputs": [
    {
     "name": "stdout",
     "output_type": "stream",
     "text": [
      "First three elements in idx are: [0 2 1]\n"
     ]
    }
   ],
   "source": [
    "# Test\n",
    "X = np.array([[1.84207953,4.6075716 ],\n",
    " [5.65858312,4.79996405],\n",
    " [6.35257892,3.2908545 ],\n",
    " [2.90401653,4.61220411],\n",
    " [3.23197916,4.93989405]])\n",
    "initial_centroids = np.array([[3,3], [6,2], [8,5]])\n",
    "\n",
    "idx = find_closest_centroids(X, initial_centroids)\n",
    "print(\"First three elements in idx are:\", idx[:3])"
   ]
  },
  {
   "cell_type": "code",
   "execution_count": 6,
   "id": "7922f90b",
   "metadata": {},
   "outputs": [],
   "source": [
    "# Update centroids after points are assigned\n",
    "def compute_centroids(X, idx, K):\n",
    "    \"\"\"\n",
    "    Args:\n",
    "        X (ndarray):   (m, n) Data points\n",
    "        idx (ndarray): (m,) Array containing index of closest centroid for each \n",
    "                       example in X. Concretely, idx[i] contains the index of \n",
    "                       the centroid closest to example i\n",
    "        K (int):       number of centroids\n",
    "    \n",
    "    Returns:\n",
    "        centroids (ndarray): (K, n) New centroids computed\n",
    "    \"\"\"\n",
    "    \n",
    "    # m: number of training example\n",
    "    # n: number of features\n",
    "    m, n = X.shape\n",
    "    \n",
    "    # Define output array\n",
    "    centroids = np.zeros((K, n))\n",
    "    \n",
    "    # Looping through each cluster\n",
    "    for j in range(K):\n",
    "        \n",
    "        # Define variables\n",
    "        coord_sum = np.zeros((1,n))\n",
    "        num_train = 0\n",
    "        \n",
    "        # Loop through each examples\n",
    "        for i in range(m):\n",
    "            \n",
    "            # check if a training exmaples belongs to jth cluster\n",
    "            if idx[i] == j:\n",
    "                coord_sum += X[i]\n",
    "                num_train += 1\n",
    "        \n",
    "        # Compute average and append\n",
    "        centroids[j] = coord_sum / num_train\n",
    "         \n",
    "    # Returns the an array of updated centroids by computing the means of the data points assigned to each centroid.\n",
    "    return centroids"
   ]
  },
  {
   "cell_type": "code",
   "execution_count": 7,
   "id": "f79d8e7b",
   "metadata": {},
   "outputs": [
    {
     "name": "stdout",
     "output_type": "stream",
     "text": [
      "The centroids are: [[2.65935841 4.71988992]\n",
      " [6.35257892 3.2908545 ]\n",
      " [5.65858312 4.79996405]]\n"
     ]
    }
   ],
   "source": [
    "# Test\n",
    "K = 3\n",
    "centroids = compute_centroids(X, idx, K)\n",
    "\n",
    "print(\"The centroids are:\", centroids)"
   ]
  },
  {
   "cell_type": "code",
   "execution_count": 11,
   "id": "562fdf1d",
   "metadata": {},
   "outputs": [],
   "source": [
    "# K Means algorithm\n",
    "# You do not need to implement anything for this part\n",
    "\n",
    "def run_kMeans(X, initial_centroids, max_iters=10):\n",
    "    \"\"\"\n",
    "    Runs the K-Means algorithm on data matrix X, where each row of X\n",
    "    is a single example\n",
    "    \"\"\"\n",
    "    \n",
    "    # Get number of training examples and features\n",
    "    m, n = X.shape\n",
    "    \n",
    "    # Get number of clusters\n",
    "    K = initial_centroids.shape[0]\n",
    "    centroids = initial_centroids\n",
    "    \n",
    "    # Initialize an array with size m to store the index of the closest centroid to each training examples\n",
    "    idx = np.zeros(m)\n",
    "    \n",
    "    # Update centroids\n",
    "    for i in range(max_iters):\n",
    "        \n",
    "        # Update idx\n",
    "        idx = find_closest_centroids(X, centroids)\n",
    "            \n",
    "        # Compute new centroid positions\n",
    "        centroids = compute_centroids(X, idx, K)\n",
    "        \n",
    "    return centroids, idx"
   ]
  },
  {
   "cell_type": "code",
   "execution_count": 13,
   "id": "4dedbd63",
   "metadata": {},
   "outputs": [],
   "source": [
    "# Set number of centroids and max number of iterations\n",
    "K = 3\n",
    "max_iters = 10\n",
    "initial_centroids = np.array([[3,3],[6,2],[8,5]])\n",
    "\n",
    "# Run K-Means\n",
    "centroids, idx = run_kMeans(X, initial_centroids, max_iters)"
   ]
  },
  {
   "cell_type": "markdown",
   "id": "679c7ce0",
   "metadata": {},
   "source": [
    "## Random initialization\n",
    "To randomly initalize the clustering centroids,\n",
    "1. Select the number of cluster, $K$\n",
    "2. Randomly pick $K$ training examples and set a clustering centroid equal to each of the training examples\n",
    "\n",
    "Issue: random initialization may result in a non-optimal clustering depending on which set of training examples are selected.\n",
    "\n",
    "Thus, we should run random initialization multiple times and compute the cost for each set of initialization using K-mean algorithm. The set with the lowest cost will be the most optimal initializaiton\n",
    "\n",
    "## Choosing the number of clusters\n",
    "Selecting number of clusters is very ambiguous, so the number of clusters should depend on how well the model performs to serve for its actual purposes"
   ]
  },
  {
   "cell_type": "markdown",
   "id": "b50b368a",
   "metadata": {},
   "source": [
    "# Code"
   ]
  },
  {
   "cell_type": "code",
   "execution_count": 14,
   "id": "1182da0c",
   "metadata": {},
   "outputs": [],
   "source": [
    "# Random initialization\n",
    "def random_init(X, K):\n",
    "    \"\"\"\n",
    "   Args:\n",
    "        X (ndarray): Data points \n",
    "        K (int):     number of centroids/clusters\n",
    "    \n",
    "    Returns:\n",
    "        centroids (ndarray): Initialized centroids\n",
    "    \"\"\"\n",
    "    \n",
    "    # Randomize the indexes for training examples\n",
    "    random_idx = np.random.permutation(X.shape[0])\n",
    "    \n",
    "    # Select the first K numbers from the randomized index list\n",
    "    centroids = X[random_idx[:K]]\n",
    "    \n",
    "    \n",
    "    return centroids"
   ]
  }
 ],
 "metadata": {
  "kernelspec": {
   "display_name": "tf",
   "language": "python",
   "name": "tf"
  },
  "language_info": {
   "codemirror_mode": {
    "name": "ipython",
    "version": 3
   },
   "file_extension": ".py",
   "mimetype": "text/x-python",
   "name": "python",
   "nbconvert_exporter": "python",
   "pygments_lexer": "ipython3",
   "version": "3.9.15"
  }
 },
 "nbformat": 4,
 "nbformat_minor": 5
}
